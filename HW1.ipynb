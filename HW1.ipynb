{
  "cells": [
    {
      "cell_type": "markdown",
      "metadata": {
        "id": "view-in-github",
        "colab_type": "text"
      },
      "source": [
        "<a href=\"https://colab.research.google.com/github/narora76/PyProject/blob/master/HW1.ipynb\" target=\"_parent\"><img src=\"https://colab.research.google.com/assets/colab-badge.svg\" alt=\"Open In Colab\"/></a>"
      ]
    },
    {
      "cell_type": "markdown",
      "metadata": {
        "id": "XFMssmhVeD2g"
      },
      "source": [
        "# Using Python for Research Homework: Week 1\n",
        "\n",
        "In this homework, we will use objects, functions, and randomness to find the length of documents, approximate $\\pi$, and smooth out random noise."
      ]
    },
    {
      "cell_type": "markdown",
      "metadata": {
        "id": "1dSzDZSIeD2j"
      },
      "source": [
        "### Exercise 1\n",
        "\n",
        "In this five-part exercise, we will count the frequency of each letter in a given string.\n",
        "\n",
        "#### Exercise 1a\n",
        "\n",
        "- Import the `string` library.\n",
        "- Create a variable `alphabet` that consists of the lowercase and uppercase letters in the English alphabet using the `ascii_letters` data attribute of the `string` library."
      ]
    },
    {
      "cell_type": "code",
      "execution_count": 4,
      "metadata": {
        "colab": {
          "base_uri": "https://localhost:8080/"
        },
        "id": "JNws6kZreD2k",
        "outputId": "e9dfef71-c1a8-479d-f787-0ba56ac835ed"
      },
      "outputs": [
        {
          "output_type": "stream",
          "name": "stdout",
          "text": [
            "abcdefghijklmnopqrstuvwxyzABCDEFGHIJKLMNOPQRSTUVWXYZ\n"
          ]
        }
      ],
      "source": [
        "# write your code here!\n",
        "import string\n",
        "alphabet = string.ascii_letters\n",
        "print(alphabet)"
      ]
    },
    {
      "cell_type": "markdown",
      "metadata": {
        "id": "rGZ47-yoeD2l"
      },
      "source": [
        "#### Exercise 1b\n",
        "- The lower and upper case letters of the English alphabet should stored as the string variable `alphabet`.\n",
        "- Consider the sentence 'Jim quickly realized that the beautiful gowns are expensive'. Create a dictionary `count_letters` with keys consisting of each unique letter in the sentence and values consisting of the number of times each letter is used in this sentence. Count upper case and lower case letters separately in the dictionary."
      ]
    },
    {
      "cell_type": "code",
      "execution_count": 5,
      "metadata": {
        "colab": {
          "base_uri": "https://localhost:8080/"
        },
        "id": "pFS8cWaAeD2m",
        "outputId": "95c9abbe-6ae1-43ad-c030-0cefab5d9830"
      },
      "outputs": [
        {
          "output_type": "stream",
          "name": "stdout",
          "text": [
            "{'J': 1, 'i': 5, 'm': 1, 'q': 1, 'u': 3, 'c': 1, 'k': 1, 'l': 3, 'y': 1, 'r': 2, 'e': 8, 'a': 4, 'z': 1, 'd': 1, 't': 4, 'h': 2, 'b': 1, 'f': 1, 'g': 1, 'o': 1, 'w': 1, 'n': 2, 's': 2, 'x': 1, 'p': 1, 'v': 1}\n"
          ]
        }
      ],
      "source": [
        "sentence = 'Jim quickly realized that the beautiful gowns are expensive'\n",
        "\n",
        "count_letters = {}\n",
        "# write your code here!\n",
        "for i in range(len(sentence)):\n",
        "  if sentence[i] != ' ':\n",
        "    if sentence[i] in count_letters:\n",
        "      count_letters[sentence[i]] = count_letters[sentence[i]] + 1\n",
        "    else:\n",
        "      count_letters[sentence[i]] = 1\n",
        "print(count_letters)"
      ]
    },
    {
      "cell_type": "markdown",
      "metadata": {
        "id": "4kfiHekNeD2m"
      },
      "source": [
        "#### Exercise 1c\n",
        "- Rewrite your code from 1b to make a function called `counter` that takes a string `input_string` and returns a dictionary of letter counts `count_letters`.\n",
        "- Use your function to call `counter(sentence)`."
      ]
    },
    {
      "cell_type": "code",
      "execution_count": 6,
      "metadata": {
        "id": "GVh63-hIeD2n"
      },
      "outputs": [],
      "source": [
        "# write your code here!\n",
        "def counter(input_string):\n",
        "  count_letters = {}\n",
        "  for i in range(len(input_string)):\n",
        "    if input_string[i] != ' ':\n",
        "      if input_string[i] in count_letters:\n",
        "        count_letters[input_string[i]] = count_letters[input_string[i]] + 1\n",
        "      else:\n",
        "        count_letters[input_string[i]] = 1\n",
        "  return count_letters"
      ]
    },
    {
      "cell_type": "markdown",
      "metadata": {
        "id": "v7xvbEuHeD2n"
      },
      "source": [
        "#### Exercise 1d\n",
        "- Abraham Lincoln was a president during the American Civil War. His famous 1863 Gettysburg Address has been stored as `address`. Use the `counter` function from 1c to return a dictionary consisting of the count of each letter in this address and save it as `address_count`."
      ]
    },
    {
      "cell_type": "code",
      "execution_count": 7,
      "metadata": {
        "colab": {
          "base_uri": "https://localhost:8080/"
        },
        "id": "J3WZQeo-eD2n",
        "outputId": "b73151b7-9a05-48ed-be32-cfcf04e4e615"
      },
      "outputs": [
        {
          "output_type": "stream",
          "name": "stdout",
          "text": [
            "{'F': 1, 'o': 93, 'u': 21, 'r': 79, 's': 44, 'c': 31, 'e': 165, 'a': 102, 'n': 76, 'd': 58, 'v': 24, 'y': 10, 'g': 27, 'f': 26, 't': 124, 'h': 80, 'b': 13, 'i': 65, ',': 22, 'w': 26, '\\n': 12, 'L': 1, 'p': 15, 'l': 41, 'm': 13, 'q': 1, '.': 10, 'N': 1, 'W': 2, '-': 15, 'I': 3, 'B': 1, 'T': 2, 'k': 3, 'G': 1}\n"
          ]
        }
      ],
      "source": [
        "address = \"\"\"Four score and seven years ago our fathers brought forth on this continent, a new nation,\n",
        "conceived in Liberty, and dedicated to the proposition that all men are created equal. Now we are engaged in a\n",
        "great civil war, testing whether that nation, or any nation so conceived and so dedicated, can long endure.\n",
        "We are met on a great battle-field of that war. We have come to dedicate a portion of that field, as a final\n",
        "resting place for those who here gave their lives that that nation might live. It is altogether fitting and proper\n",
        "that we should do this. But, in a larger sense, we can not dedicate -- we can not consecrate -- we can not hallow --\n",
        "this ground. The brave men, living and dead, who struggled here, have consecrated it, far above our poor power to add\n",
        "or detract. The world will little note, nor long remember what we say here, but it can never forget what they did here.\n",
        "It is for us the living, rather, to be dedicated here to the unfinished work which they who fought here have thus far so\n",
        "nobly advanced. It is rather for us to be here dedicated to the great task remaining before us -- that from these honored\n",
        "dead we take increased devotion to that cause for which they gave the last full measure of devotion -- that we here\n",
        "highly resolve that these dead shall not have died in vain -- that this nation, under God, shall have a new birth of\n",
        "freedom -- and that government of the people, by the people, for the people, shall not perish from the earth.\"\"\"\n",
        "\n",
        "# Write your code here!\n",
        "address_count = counter(address)\n",
        "print(address_count)"
      ]
    },
    {
      "cell_type": "markdown",
      "metadata": {
        "id": "4vQHr89-eD2o"
      },
      "source": [
        "#### Exercise 1f\n",
        "- The frequency of each letter in the Gettysburg Address is already stored as `address_count`. Use this dictionary to find the most common letter in the Gettysburg address."
      ]
    },
    {
      "cell_type": "code",
      "execution_count": 8,
      "metadata": {
        "colab": {
          "base_uri": "https://localhost:8080/"
        },
        "id": "ECMFqqTaeD2o",
        "outputId": "3f2b4e2b-6737-445a-b485-2cf101c256bb"
      },
      "outputs": [
        {
          "output_type": "stream",
          "name": "stdout",
          "text": [
            "G\n"
          ]
        }
      ],
      "source": [
        "# write your code here!\n",
        "freq = 0\n",
        "letter = ''\n",
        "for k in address_count.keys():\n",
        "  if address_count[k] > freq:\n",
        "    letter = k\n",
        "print(letter)"
      ]
    },
    {
      "cell_type": "markdown",
      "metadata": {
        "id": "939VmpezeD2p"
      },
      "source": [
        "### Exercise 2\n",
        "\n",
        "Consider a circle inscribed in a square. The ratio of their areas (the ratio of the area of the circle to the area of the square) is $\\frac{\\pi}{4}$. In this six-part exercise, we will find a way to approximate this value.\n",
        "\n",
        "#### Exercise 2a\n",
        "- Using the `math` library, calculate and print the value of $\\frac{\\pi}{4}$"
      ]
    },
    {
      "cell_type": "code",
      "execution_count": 9,
      "metadata": {
        "colab": {
          "base_uri": "https://localhost:8080/"
        },
        "id": "jZJ8j4baeD2p",
        "outputId": "4ff8adb8-055a-43a3-945b-f58e4318db0f"
      },
      "outputs": [
        {
          "output_type": "stream",
          "name": "stdout",
          "text": [
            "0.7853981633974483\n"
          ]
        }
      ],
      "source": [
        "# write your code here\n",
        "import math\n",
        "print(math.pi/4)"
      ]
    },
    {
      "cell_type": "markdown",
      "metadata": {
        "id": "6SmM0l3LeD2p"
      },
      "source": [
        "#### Exercise 2b\n",
        "- Using `random.uniform()`, create a function `rand()` that generates a single float between $-1$ and $1$.\n",
        "- Call `rand()` once. For us to be able to check your solution, we will use `random.seed()` to fix the seed value of the random number generator."
      ]
    },
    {
      "cell_type": "code",
      "execution_count": 10,
      "metadata": {
        "colab": {
          "base_uri": "https://localhost:8080/"
        },
        "id": "jLtmJzyIeD2p",
        "outputId": "b69fa769-054d-4fd7-e4f6-f5e8903ca196"
      },
      "outputs": [
        {
          "output_type": "execute_result",
          "data": {
            "text/plain": [
              "-0.7312715117751976"
            ]
          },
          "metadata": {},
          "execution_count": 10
        }
      ],
      "source": [
        "import random\n",
        "\n",
        "random.seed(1) # Fixes the see of the random number generator.\n",
        "\n",
        "def rand():\n",
        "   # define `rand` here!\n",
        "   return random.uniform(-1,1)\n",
        "rand()"
      ]
    },
    {
      "cell_type": "markdown",
      "metadata": {
        "id": "bmjmaXt_eD2q"
      },
      "source": [
        "#### Exercise 2c\n",
        "- The distance between two points x and y is the square root of the sum of squared differences along each dimension of x and y. Write a function` distance(x, y)` that takes two vectors as its input and outputs the distance between them. Use your function to find the distance between $x=(0,0)$ and $y=(1,1)$."
      ]
    },
    {
      "cell_type": "code",
      "execution_count": 11,
      "metadata": {
        "id": "DFEt8LPkeD2q"
      },
      "outputs": [],
      "source": [
        "def distance(x, y):\n",
        "   # define your function here!\n",
        "   return math.sqrt((y[0] - x[0])**2 + (y[1] - x[1])**2)\n"
      ]
    },
    {
      "cell_type": "markdown",
      "metadata": {
        "id": "BPa_Xa7OeD2r"
      },
      "source": [
        "#### Exercise 2d\n",
        "\n",
        "- Write a function `in_circle(x, origin)` that determines whether a point in a two dimensional plane falls within a unit circle surrounding a given origin.\n",
        "    - Your function should return a boolean `True` if the distance between `x` and `origin` is less than 1 and `False` otherwise.\n",
        "    - Use `distance(x, y)` as defined in 2c.\n",
        "- Use your function to determine whether the point (1,1) lies within the unit circle centered at (0,0)."
      ]
    },
    {
      "cell_type": "code",
      "execution_count": 12,
      "metadata": {
        "id": "X2rBwIrFeD2r"
      },
      "outputs": [],
      "source": [
        "def in_circle(x, origin = [0,0]):\n",
        "   # Define your function here!\n",
        "   dist = distance(x,origin)\n",
        "   if dist < 1:\n",
        "      return True\n",
        "   else:\n",
        "      return False"
      ]
    },
    {
      "cell_type": "markdown",
      "metadata": {
        "id": "RIP4vcefeD2r"
      },
      "source": [
        "#### Exercise 2e\n",
        "\n",
        "- Create a list `inside` of `R=10000` booleans that determines whether or not a point falls within the unit circle centered at `(0,0)`.\n",
        "    - Use the `rand` function from 2b to generate `R` randomly located points.\n",
        "    - Use the function `in_circle` to test whether or not a given pint falls within the unit circle.\n",
        "- Find the proportion of points that fall within the circle by summing all `True` values in the `inside` list; then divide the answer by `R` to obtain a proportion.\n",
        "- Print your answer. This proportion is an estimate of the ratio of the two areas!"
      ]
    },
    {
      "cell_type": "code",
      "execution_count": 15,
      "metadata": {
        "colab": {
          "base_uri": "https://localhost:8080/"
        },
        "id": "m92-KJ8TeD2r",
        "outputId": "566a138d-ddce-4c7a-a6c0-0598d1662c65"
      },
      "outputs": [
        {
          "output_type": "stream",
          "name": "stdout",
          "text": [
            "0.779\n"
          ]
        }
      ],
      "source": [
        "import random\n",
        "\n",
        "random.seed(1)\n",
        "inside = []\n",
        "\n",
        "# write your code here!\n",
        "R = 10000\n",
        "for i in range(R):\n",
        "  coord_x = rand()\n",
        "  coord_y = rand()\n",
        "  inside.append(in_circle([coord_x,coord_y]))\n",
        "\n",
        "print(sum(inside)/R)"
      ]
    },
    {
      "cell_type": "markdown",
      "metadata": {
        "id": "G-SPrtFoeD2s"
      },
      "source": [
        "#### Exercise 2f\n",
        "\n",
        "- Find the difference between your estimate from part 2e and `math.pi / 4`. Note: `inside` and `R` are defined as in Exercise 2e."
      ]
    },
    {
      "cell_type": "code",
      "execution_count": 16,
      "metadata": {
        "colab": {
          "base_uri": "https://localhost:8080/"
        },
        "id": "rupLWG-deD2s",
        "outputId": "ebd84812-95c7-4a12-fbb2-a62edee051f6"
      },
      "outputs": [
        {
          "output_type": "stream",
          "name": "stdout",
          "text": [
            "-0.006398163397448253\n"
          ]
        }
      ],
      "source": [
        "# write your code here!\n",
        "print(sum(inside)/R - math.pi/4)"
      ]
    },
    {
      "cell_type": "markdown",
      "metadata": {
        "id": "xQopw3GyeD2s"
      },
      "source": [
        "### Exercise 3\n",
        "\n",
        "A list of numbers representing measurements obtained from a system of interest can often be noisy. One way to deal with noise to smoothen the values by replacing each value with the average of the value and the values of its neighbors.\n",
        "\n",
        "#### Exercise 3a\n",
        "\n",
        "- Write a function `moving_window_average(x, n_neighbors)` that takes a list `x` and the number of neighbors `n_neighbors` on either side of a given member of the list to consider.\n",
        "- For each value in `x`, `moving_window_average(x, n_neighbors)` computes the average of the value and the values of its neighbors.\n",
        "- `moving_window_average` should return a list of averaged values that is the same length as the original list.\n",
        "- If there are not enough neighbors (for cases near the edge), substitute the original value for a neighbor for each missing neighbor.\n",
        "- Use your function to find the moving window sum of `x=[0,10,5,3,1,5]` and `n_neighbors=1`."
      ]
    },
    {
      "cell_type": "code",
      "execution_count": 20,
      "metadata": {
        "colab": {
          "base_uri": "https://localhost:8080/"
        },
        "id": "5q-KX2l2eD2s",
        "outputId": "3ad0879b-ee82-41bd-b76a-1f59f202157b"
      },
      "outputs": [
        {
          "output_type": "stream",
          "name": "stdout",
          "text": [
            "[3.3333333333333335, 5.0, 6.0, 3.0, 3.0, 3.6666666666666665]\n"
          ]
        }
      ],
      "source": [
        "def moving_window_average(x, n_neighbors=1):\n",
        "    n = len(x)\n",
        "    width = n_neighbors*2 + 1\n",
        "    final_x = []\n",
        "    x = [x[0]]*n_neighbors + x + [x[-1]]*n_neighbors\n",
        "    # To complete the function,\n",
        "    # return a list of the mean of values from i to i+width for all values i from 0 to n-1.\n",
        "\n",
        "    n1 = len(x)\n",
        "    start = n_neighbors\n",
        "    end = n1 - n_neighbors\n",
        "    avg = 0\n",
        "    for i in range(start,end):\n",
        "      avg = x[i]\n",
        "      for j in range(1,n_neighbors+1):\n",
        "        avg = avg + x[i-j] + x[i+j]\n",
        "      final_x.append(avg/width)\n",
        "    return final_x\n",
        "x = [0,10,5,3,1,5]\n",
        "print(moving_window_average(x, 1))"
      ]
    },
    {
      "cell_type": "markdown",
      "metadata": {
        "id": "hFDKAgXWeD2t"
      },
      "source": [
        "#### Exercise 3b\n",
        "- Compute and store `R=1000` random values from 0-1 as `x`.\n",
        "- Compute the moving window average for `x` for values of `n_neighbors` ranging from 1 to 9 inclusive.\n",
        "- Store `x` as well as each of these averages as consecutive lists in a list called `Y`"
      ]
    },
    {
      "cell_type": "code",
      "execution_count": 22,
      "metadata": {
        "id": "85vOK5bNeD2t"
      },
      "outputs": [],
      "source": [
        "random.seed(1) # This line fixes the value called by your function,\n",
        "               # and is used for answer-checking.\n",
        "\n",
        "# write your code here!\n",
        "x = []\n",
        "R = 1000\n",
        "for i in range(R):\n",
        "  x.append(random.uniform(0,1))\n",
        "\n",
        "Y = []\n",
        "for i in range(1,10):\n",
        "  Y.append(moving_window_average(x, i))"
      ]
    },
    {
      "cell_type": "markdown",
      "metadata": {
        "id": "26buhsXgeD2t"
      },
      "source": [
        "#### Exercise 3c\n",
        "\n",
        "- For each list in `Y`, calculate and store the range (the maximum minus the minimum) in a new list ranges.\n",
        "- Print your answer. As the window width increases, does the range of each list increase or decrease? Why do you think that is?"
      ]
    },
    {
      "cell_type": "code",
      "execution_count": 27,
      "metadata": {
        "colab": {
          "base_uri": "https://localhost:8080/"
        },
        "id": "2DInrAPseD2t",
        "outputId": "5b6d590d-95f3-4e41-8144-0f11db1713ed"
      },
      "outputs": [
        {
          "output_type": "stream",
          "name": "stdout",
          "text": [
            "[0.9128390185520854, 0.8016457719093972, 0.7137391224212468, 0.6230146948375028, 0.5042284086774563, 0.507101375310163, 0.45900904969081574, 0.4465954953908327, 0.443369694409005]\n"
          ]
        }
      ],
      "source": [
        "# write your code here!\n",
        "ranges = []\n",
        "for i in range(len(Y)):\n",
        "  ranges.append(max(Y[i]) - min(Y[i]))\n",
        "print(ranges)\n",
        "#Range increases as window width increases"
      ]
    }
  ],
  "metadata": {
    "kernelspec": {
      "display_name": "Python 3",
      "language": "python",
      "name": "python3"
    },
    "language_info": {
      "codemirror_mode": {
        "name": "ipython",
        "version": 3
      },
      "file_extension": ".py",
      "mimetype": "text/x-python",
      "name": "python",
      "nbconvert_exporter": "python",
      "pygments_lexer": "ipython3",
      "version": "3.7.3"
    },
    "colab": {
      "provenance": [],
      "include_colab_link": true
    }
  },
  "nbformat": 4,
  "nbformat_minor": 0
}